{
 "cells": [
  {
   "cell_type": "code",
   "execution_count": 2,
   "metadata": {
    "collapsed": false
   },
   "outputs": [
    {
     "name": "stderr",
     "output_type": "stream",
     "text": [
      "/home/grin/anaconda/lib/python2.7/site-packages/matplotlib/__init__.py:872: UserWarning: axes.color_cycle is deprecated and replaced with axes.prop_cycle; please use the latter.\n",
      "  warnings.warn(self.msg_depr % (key, alt_key))\n"
     ]
    }
   ],
   "source": [
    "import numpy as np\n",
    "import pandas as pd\n",
    "import matplotlib.pyplot as plt\n",
    "%matplotlib inline\n",
    "import seaborn as sns\n",
    "sns.set(color_codes=True)"
   ]
  },
  {
   "cell_type": "code",
   "execution_count": 3,
   "metadata": {
    "collapsed": false
   },
   "outputs": [
    {
     "data": {
      "text/html": [
       "<div>\n",
       "<table border=\"1\" class=\"dataframe\">\n",
       "  <thead>\n",
       "    <tr style=\"text-align: right;\">\n",
       "      <th></th>\n",
       "      <th>Job ID</th>\n",
       "      <th>Agency</th>\n",
       "      <th>Posting Type</th>\n",
       "      <th># Of Positions</th>\n",
       "      <th>Business Title</th>\n",
       "      <th>Civil Service Title</th>\n",
       "      <th>Title Code No</th>\n",
       "      <th>Level</th>\n",
       "      <th>Salary Range From</th>\n",
       "      <th>Salary Range To</th>\n",
       "      <th>...</th>\n",
       "      <th>Additional Information</th>\n",
       "      <th>To Apply</th>\n",
       "      <th>Hours/Shift</th>\n",
       "      <th>Work Location 1</th>\n",
       "      <th>Recruitment Contact</th>\n",
       "      <th>Residency Requirement</th>\n",
       "      <th>Posting Date</th>\n",
       "      <th>Post Until</th>\n",
       "      <th>Posting Updated</th>\n",
       "      <th>Process Date</th>\n",
       "    </tr>\n",
       "  </thead>\n",
       "  <tbody>\n",
       "    <tr>\n",
       "      <th>0</th>\n",
       "      <td>132719</td>\n",
       "      <td>DEPT OF ENVIRONMENT PROTECTION</td>\n",
       "      <td>External</td>\n",
       "      <td>2</td>\n",
       "      <td>Stationary Engineer (Electric)</td>\n",
       "      <td>STATIONARY ENGINEER (ELECTRIC)</td>\n",
       "      <td>91645</td>\n",
       "      <td>00</td>\n",
       "      <td>94983</td>\n",
       "      <td>94983</td>\n",
       "      <td>...</td>\n",
       "      <td>Appointments are subject to OMB approval  For ...</td>\n",
       "      <td>Click the ''Apply Now'' button</td>\n",
       "      <td></td>\n",
       "      <td>3701 Jerome Ave, Bx NY 10467</td>\n",
       "      <td>NaN</td>\n",
       "      <td>New York City residency is generally required ...</td>\n",
       "      <td>10/08/2013 00:00:00</td>\n",
       "      <td>NaN</td>\n",
       "      <td>10/08/2013 00:00:00</td>\n",
       "      <td>10/27/2015 00:00:00</td>\n",
       "    </tr>\n",
       "  </tbody>\n",
       "</table>\n",
       "<p>1 rows × 26 columns</p>\n",
       "</div>"
      ],
      "text/plain": [
       "   Job ID                          Agency Posting Type  # Of Positions  \\\n",
       "0  132719  DEPT OF ENVIRONMENT PROTECTION     External               2   \n",
       "\n",
       "                   Business Title             Civil Service Title  \\\n",
       "0  Stationary Engineer (Electric)  STATIONARY ENGINEER (ELECTRIC)   \n",
       "\n",
       "  Title Code No Level  Salary Range From  Salary Range To  \\\n",
       "0         91645    00              94983            94983   \n",
       "\n",
       "          ...                                      Additional Information  \\\n",
       "0         ...           Appointments are subject to OMB approval  For ...   \n",
       "\n",
       "                         To Apply Hours/Shift               Work Location 1  \\\n",
       "0  Click the ''Apply Now'' button              3701 Jerome Ave, Bx NY 10467   \n",
       "\n",
       "  Recruitment Contact                              Residency Requirement  \\\n",
       "0                 NaN  New York City residency is generally required ...   \n",
       "\n",
       "          Posting Date Post Until      Posting Updated         Process Date  \n",
       "0  10/08/2013 00:00:00        NaN  10/08/2013 00:00:00  10/27/2015 00:00:00  \n",
       "\n",
       "[1 rows x 26 columns]"
      ]
     },
     "execution_count": 3,
     "metadata": {},
     "output_type": "execute_result"
    }
   ],
   "source": [
    "dataset = pd.read_csv('NYC_Jobs.csv')\n",
    "dataset.head(1)"
   ]
  },
  {
   "cell_type": "code",
   "execution_count": null,
   "metadata": {
    "collapsed": true
   },
   "outputs": [],
   "source": []
  },
  {
   "cell_type": "code",
   "execution_count": 4,
   "metadata": {
    "collapsed": false
   },
   "outputs": [
    {
     "name": "stdout",
     "output_type": "stream",
     "text": [
      "Index([u'Job ID', u'Agency', u'Posting Type', u'# Of Positions',\n",
      "       u'Business Title', u'Civil Service Title', u'Title Code No', u'Level',\n",
      "       u'Salary Range From', u'Salary Range To', u'Salary Frequency',\n",
      "       u'Work Location', u'Division/Work Unit', u'Job Description',\n",
      "       u'Minimum Qual Requirements', u'Preferred Skills',\n",
      "       u'Additional Information', u'To Apply', u'Hours/Shift',\n",
      "       u'Work Location 1', u'Recruitment Contact', u'Residency Requirement',\n",
      "       u'Posting Date', u'Post Until', u'Posting Updated', u'Process Date'],\n",
      "      dtype='object')\n"
     ]
    }
   ],
   "source": [
    "print dataset.columns"
   ]
  },
  {
   "cell_type": "markdown",
   "metadata": {},
   "source": [
    "Посчитаем распределение вакансий по разным способам оплаты (за год, за месяц, за час). Вакансии из разных групп придётся исследовать отдельно, так как не понятно, сколько часов и сколько дней люди работают. Сложно оценить размер годовой зарплаты, если по данной вакансии почасовая оплата."
   ]
  },
  {
   "cell_type": "code",
   "execution_count": 6,
   "metadata": {
    "collapsed": false
   },
   "outputs": [
    {
     "data": {
      "text/plain": [
       "Salary Frequency\n",
       "Annual    3146\n",
       "Daily       28\n",
       "Hourly     255\n",
       "Name: Job ID, dtype: int64"
      ]
     },
     "execution_count": 6,
     "metadata": {},
     "output_type": "execute_result"
    }
   ],
   "source": [
    "grouped_frequency = dataset.groupby('Salary Frequency')\n",
    "grouped_frequency.count()['Job ID']"
   ]
  },
  {
   "cell_type": "markdown",
   "metadata": {},
   "source": [
    "Посмотрим, какие есть разные значения в столбце 'Agency', и сколько их всего:"
   ]
  },
  {
   "cell_type": "code",
   "execution_count": 12,
   "metadata": {
    "collapsed": false
   },
   "outputs": [
    {
     "name": "stdout",
     "output_type": "stream",
     "text": [
      "Agency\n",
      "DEPT OF HEALTH/MENTAL HYGIENE     863\n",
      "DEPT OF ENVIRONMENT PROTECTION    424\n",
      "DEPT OF DESIGN & CONSTRUCTION     264\n",
      "DEPT OF INFO TECH & TELECOMM      236\n",
      "ADMIN FOR CHILDREN'S SVCS         180\n",
      "DEPARTMENT OF BUILDINGS           170\n",
      "DEPARTMENT OF CORRECTION          161\n",
      "HOUSING PRESERVATION & DVLPMNT    153\n",
      "DEPARTMENT OF TRANSPORTATION      112\n",
      "DEPARTMENT OF FINANCE              87\n",
      "FIRE DEPARTMENT                    77\n",
      "DEPARTMENT OF INVESTIGATION        64\n",
      "HRA/DEPT OF SOCIAL SERVICES        61\n",
      "DEPARTMENT OF BUSINESS SERV.       60\n",
      "CONSUMER AFFAIRS                   58\n",
      "NYC HOUSING AUTHORITY              58\n",
      "DEPT OF PARKS & RECREATION         50\n",
      "DEPT OF CITYWIDE ADMIN SVCS        38\n",
      "DEPT. OF HOMELESS SERVICES         35\n",
      "ADMIN TRIALS AND HEARINGS          32\n",
      "LAW DEPARTMENT                     28\n",
      "FINANCIAL INFO SVCS AGENCY         26\n",
      "CIVILIAN COMPLAINT REVIEW BD       24\n",
      "DEPT OF YOUTH & COMM DEV SRVS      23\n",
      "TAXI & LIMOUSINE COMMISSION        22\n",
      "DEPARTMENT OF SANITATION           18\n",
      "NYC EMPLOYEES RETIREMENT SYS       16\n",
      "DEPARTMENT FOR THE AGING           15\n",
      "DEPARTMENT OF CITY PLANNING        13\n",
      "OFF OF PAYROLL ADMINISTRATION       9\n",
      "OFFICE OF EMERGENCY MANAGEMENT      8\n",
      "HUMAN RIGHTS COMMISSION             8\n",
      "DEPARTMENT OF PROBATION             7\n",
      "TEACHERS RETIREMENT SYSTEM          5\n",
      "BUSINESS INTEGRITY COMMISSION       4\n",
      "TAX COMMISSION                      4\n",
      "OFFICE OF LABOR RELATIONS           4\n",
      "CONFLICTS OF INTEREST BOARD         2\n",
      "DEPT OF RECORDS & INFO SERVICE      2\n",
      "EQUAL EMPLOY PRACTICES COMM         2\n",
      "BOARD OF CORRECTION                 2\n",
      "LANDMARKS PRESERVATION COMM         2\n",
      "OFFICE OF COLLECTIVE BARGAININ      2\n",
      "Name: Job ID, dtype: int64\n",
      "Total number of agencies: 43\n"
     ]
    }
   ],
   "source": [
    "grouped_agency = dataset.groupby('Agency')\n",
    "print grouped_agency.count()['Job ID'].sort_values(ascending=False)\n",
    "print \"Total number of agencies: \" + str(len(grouped_agency.groups.keys()))"
   ]
  },
  {
   "cell_type": "code",
   "execution_count": null,
   "metadata": {
    "collapsed": true
   },
   "outputs": [],
   "source": []
  }
 ],
 "metadata": {
  "kernelspec": {
   "display_name": "Python 2",
   "language": "python",
   "name": "python2"
  },
  "language_info": {
   "codemirror_mode": {
    "name": "ipython",
    "version": 2
   },
   "file_extension": ".py",
   "mimetype": "text/x-python",
   "name": "python",
   "nbconvert_exporter": "python",
   "pygments_lexer": "ipython2",
   "version": "2.7.10"
  }
 },
 "nbformat": 4,
 "nbformat_minor": 0
}
